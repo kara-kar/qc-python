{
 "cells": [
  {
   "cell_type": "markdown",
   "id": "e79ed953",
   "metadata": {},
   "source": [
    "# コメント"
   ]
  },
  {
   "cell_type": "markdown",
   "id": "a029fdbf",
   "metadata": {},
   "source": [
    "### #をつけることでコメントとみなされコードが実行されるとき無視される。"
   ]
  },
  {
   "cell_type": "code",
   "execution_count": 8,
   "id": "eec2bb99",
   "metadata": {},
   "outputs": [
    {
     "name": "stdout",
     "output_type": "stream",
     "text": [
      "hello,python\n"
     ]
    }
   ],
   "source": [
    "#コメント\n",
    "print(\"hello,python\")\n",
    "#コメント"
   ]
  },
  {
   "cell_type": "markdown",
   "id": "4af69e4b",
   "metadata": {},
   "source": [
    "# 文字列"
   ]
  },
  {
   "cell_type": "markdown",
   "id": "cc7ec214",
   "metadata": {},
   "source": [
    "### [\"][']で囲むと文字列として認識される"
   ]
  },
  {
   "cell_type": "markdown",
   "id": "3abf447b",
   "metadata": {},
   "source": [
    "# 数値"
   ]
  },
  {
   "cell_type": "markdown",
   "id": "4fcd9af7",
   "metadata": {},
   "source": [
    "### 数値を扱う際は文字列のように囲む必要はない"
   ]
  },
  {
   "cell_type": "markdown",
   "id": "70ee3a7e",
   "metadata": {},
   "source": [
    "### 「+」「-」「/」　を使うことで四則演算ができる"
   ]
  },
  {
   "cell_type": "code",
   "execution_count": 21,
   "id": "b94167d0",
   "metadata": {},
   "outputs": [
    {
     "name": "stdout",
     "output_type": "stream",
     "text": [
      "2\n",
      "0\n",
      "1.0\n",
      "2\n"
     ]
    }
   ],
   "source": [
    "print(1+1)\n",
    "print(1-1)\n",
    "print(1/1)\n",
    "print(1*2)"
   ]
  },
  {
   "cell_type": "markdown",
   "id": "50d27b83",
   "metadata": {},
   "source": [
    "# 変数"
   ]
  },
  {
   "cell_type": "markdown",
   "id": "18d4c6b6",
   "metadata": {},
   "source": [
    "### 変数とは変数とは値に付ける名札"
   ]
  },
  {
   "cell_type": "code",
   "execution_count": 22,
   "id": "92a414bd",
   "metadata": {},
   "outputs": [
    {
     "name": "stdout",
     "output_type": "stream",
     "text": [
      "110\n"
     ]
    }
   ],
   "source": [
    "a=100\n",
    "\n",
    "print(10+a)\n",
    "\n",
    "#aに100が代入される"
   ]
  },
  {
   "cell_type": "markdown",
   "id": "d23344ac",
   "metadata": {},
   "source": [
    "# 定数"
   ]
  },
  {
   "cell_type": "markdown",
   "id": "afaf1fe8",
   "metadata": {},
   "source": [
    "### pythonでは定数が定義できないため変数を使って定義する"
   ]
  },
  {
   "cell_type": "markdown",
   "id": "359729f5",
   "metadata": {},
   "source": [
    "### これらの言葉は変数などに使用できない"
   ]
  },
  {
   "cell_type": "markdown",
   "id": "187df5e7",
   "metadata": {},
   "source": [
    "#### ['False', 'None', 'True', 'and', 'as', 'assert', 'break', 'class', 'continue', 'def', 'del', 'elif', 'else', 'except', 'finally', 'for', 'from', 'global', 'if', 'import', 'in', 'is', 'lambda', 'nonlocal', 'not', 'or', 'pass', 'raise', 'return', 'try', 'while', 'with', 'yield']"
   ]
  },
  {
   "cell_type": "markdown",
   "id": "3e5eadf5",
   "metadata": {},
   "source": [
    "# 変数と型"
   ]
  },
  {
   "cell_type": "markdown",
   "id": "f9e50af4",
   "metadata": {},
   "source": [
    "## データ型"
   ]
  },
  {
   "cell_type": "markdown",
   "id": "6f11c950",
   "metadata": {},
   "source": [
    "### 文字列や数値など"
   ]
  },
  {
   "cell_type": "markdown",
   "id": "0435b1a7",
   "metadata": {},
   "source": [
    "## 数字"
   ]
  },
  {
   "cell_type": "markdown",
   "id": "d0a04286",
   "metadata": {},
   "source": [
    "### １）整数(int)\n",
    "### ２）小数・実数(float)\n",
    "### ３）複素数\n",
    "###  の3つがある"
   ]
  },
  {
   "cell_type": "markdown",
   "id": "f921c354",
   "metadata": {},
   "source": [
    "## 文字列型"
   ]
  },
  {
   "cell_type": "markdown",
   "id": "f7d4cf41",
   "metadata": {},
   "source": [
    "### 「\"」「'」で囲ったもの"
   ]
  },
  {
   "cell_type": "markdown",
   "id": "98501265",
   "metadata": {},
   "source": [
    "##  型変換"
   ]
  },
  {
   "cell_type": "markdown",
   "id": "f574f910",
   "metadata": {},
   "source": [
    "### 数値型を文字列型に変換するにはstr()を使う"
   ]
  },
  {
   "cell_type": "markdown",
   "id": "ed7d90ed",
   "metadata": {},
   "source": [
    "# リスト型"
   ]
  },
  {
   "cell_type": "markdown",
   "id": "4a3897ca",
   "metadata": {},
   "source": [
    "### 変数は一つのデータの管理しかできなかったがリスト型は複数のデータを管理できる"
   ]
  },
  {
   "cell_type": "markdown",
   "id": "aae668ea",
   "metadata": {},
   "source": [
    "### listは 配列名 = [\"x\",\"y\",\"z\"] という形式で宣言\n",
    "### append()をつかうことでlistに要素を追加"
   ]
  },
  {
   "cell_type": "code",
   "execution_count": 31,
   "id": "51b22b72",
   "metadata": {},
   "outputs": [
    {
     "name": "stdout",
     "output_type": "stream",
     "text": [
      "['a', 'b', 'c', 'd']\n"
     ]
    }
   ],
   "source": [
    "list = [\"a\",\"b\",\"c\"]\n",
    "list.append(\"d\")\n",
    "print(list)"
   ]
  },
  {
   "cell_type": "markdown",
   "id": "29287f30",
   "metadata": {},
   "source": [
    "# 辞書型\n",
    "### リスト型の番号を文字列にした版"
   ]
  },
  {
   "cell_type": "code",
   "execution_count": 32,
   "id": "982bf800",
   "metadata": {},
   "outputs": [
    {
     "name": "stdout",
     "output_type": "stream",
     "text": [
      "eo\n"
     ]
    }
   ],
   "source": [
    "辞書 = {\"aiu\": \"eo\", \"kakiku\": \"keko\"}\n",
    "print(辞書[\"aiu\"])\n"
   ]
  },
  {
   "cell_type": "markdown",
   "id": "08d0acf8",
   "metadata": {},
   "source": [
    "# コードブロックとインデント"
   ]
  },
  {
   "cell_type": "markdown",
   "id": "9baf4962",
   "metadata": {},
   "source": [
    "### :があったら字下げをする"
   ]
  },
  {
   "cell_type": "markdown",
   "id": "ef8c4e44",
   "metadata": {},
   "source": [
    "# 条件分岐 (if文)\n",
    "### 条件に当てはまるかどうかで処理をする"
   ]
  },
  {
   "cell_type": "code",
   "execution_count": 34,
   "id": "bafcb82c",
   "metadata": {},
   "outputs": [],
   "source": [
    "#if 条件A:\n",
    "#    条件AがTrueなら実行\n",
    "#elif 条件B:\n",
    "#    条件AがFalseかつ条件BがTrueなら実行\n",
    "#else:\n",
    "#    条件AもBもFalseなら実行\n"
   ]
  },
  {
   "cell_type": "markdown",
   "id": "0a287609",
   "metadata": {},
   "source": [
    "# 条件式の作り方\n",
    "### ＞右辺より左辺が大きい\n",
    "### ＜右辺より左辺が小さい\n",
    "### ＞＝右辺より左辺のほうが大きいか等しい\n",
    "### ＜＝右辺より左辺のほうが小さいか等しい\n",
    "### ＝＝右辺と左辺は等しい\n",
    "### !＝右辺と左辺は等しくない"
   ]
  },
  {
   "cell_type": "code",
   "execution_count": 35,
   "id": "0edc6412",
   "metadata": {},
   "outputs": [
    {
     "name": "stdout",
     "output_type": "stream",
     "text": [
      "合格です。おめでとう！\n",
      "満点\n"
     ]
    }
   ],
   "source": [
    "score = 80\n",
    "if score > 78: # 比較演算子 > を使っています。\n",
    "    print(\"合格です。おめでとう！\")\n",
    "else:\n",
    "    print(\"不合格。次回頑張りましょう。\")\n",
    "\n",
    "score = 100\n",
    "if score == 100:\n",
    "    print(\"満点\")\n",
    "elif score > 85:\n",
    "    print(\"合格！\")\n",
    "else:\n",
    "    print(\"不合格。次回頑張りましょう。\")"
   ]
  },
  {
   "cell_type": "markdown",
   "id": "c32f806e",
   "metadata": {},
   "source": [
    "# ループ\n",
    "### ループは複数回同じコードを実行するための制御構文"
   ]
  },
  {
   "cell_type": "markdown",
   "id": "f79f3100",
   "metadata": {},
   "source": [
    "# for文"
   ]
  },
  {
   "cell_type": "code",
   "execution_count": 40,
   "id": "767ebaec",
   "metadata": {},
   "outputs": [
    {
     "name": "stdout",
     "output_type": "stream",
     "text": [
      "w\n",
      "a\n",
      "s\n",
      "d\n"
     ]
    }
   ],
   "source": [
    "# for ループ内変数 in リスト名:\n",
    "#     実行する処理\n",
    "for x in [\"w\",\"a\",\"s\",\"d\"]:\n",
    "    print(x)"
   ]
  },
  {
   "cell_type": "markdown",
   "id": "18f20383",
   "metadata": {},
   "source": [
    "rangeを用いる"
   ]
  },
  {
   "cell_type": "code",
   "execution_count": 41,
   "id": "459cb3c1",
   "metadata": {},
   "outputs": [
    {
     "name": "stdout",
     "output_type": "stream",
     "text": [
      "0\n",
      "1\n",
      "2\n",
      "3\n",
      "4\n"
     ]
    }
   ],
   "source": [
    "for a in range(5):\n",
    "    print(a)"
   ]
  },
  {
   "cell_type": "code",
   "execution_count": 44,
   "id": "c081a1d4",
   "metadata": {},
   "outputs": [
    {
     "name": "stdout",
     "output_type": "stream",
     "text": [
      "3\n",
      "4\n",
      "5\n",
      "6\n",
      "7\n"
     ]
    }
   ],
   "source": [
    "for b in range(3,8):\n",
    "    print(b)\n"
   ]
  },
  {
   "cell_type": "markdown",
   "id": "26e2cfbe",
   "metadata": {},
   "source": [
    "### リストの要素を順に処理しつつ、インデックス番号も知りたい場合enumerate()を使う"
   ]
  },
  {
   "cell_type": "code",
   "execution_count": 45,
   "id": "6e5110fc",
   "metadata": {},
   "outputs": [
    {
     "name": "stdout",
     "output_type": "stream",
     "text": [
      "0 apple\n",
      "1 banana\n",
      "2 melon\n"
     ]
    }
   ],
   "source": [
    "for index, name in enumerate([\"apple\", \"banana\", \"melon\"]):\n",
    "    print(index, name)"
   ]
  },
  {
   "cell_type": "code",
   "execution_count": 48,
   "id": "535a2473",
   "metadata": {},
   "outputs": [
    {
     "name": "stdout",
     "output_type": "stream",
     "text": [
      "mae 1\n",
      "usiro 2\n",
      "migi 3\n"
     ]
    }
   ],
   "source": [
    "data = {\"mae\": 1, \"usiro\": 2, \"migi\": 3}\n",
    "for key, value in data.items():\n",
    "    print(key, value)"
   ]
  },
  {
   "cell_type": "markdown",
   "id": "bd89c988",
   "metadata": {},
   "source": [
    "# while文"
   ]
  },
  {
   "cell_type": "markdown",
   "id": "7c41840d",
   "metadata": {},
   "source": [
    "while文は、特定条件を満たすまでループを繰り返す"
   ]
  },
  {
   "cell_type": "code",
   "execution_count": 51,
   "id": "4ec421e5",
   "metadata": {},
   "outputs": [
    {
     "name": "stdout",
     "output_type": "stream",
     "text": [
      "10\n",
      "11\n",
      "12\n",
      "13\n",
      "14\n",
      "15\n",
      "16\n",
      "17\n",
      "18\n",
      "19\n"
     ]
    }
   ],
   "source": [
    "n=10\n",
    "while n < 20:\n",
    "    print(n)\n",
    "    n += 1"
   ]
  },
  {
   "cell_type": "markdown",
   "id": "b47ebb4b",
   "metadata": {},
   "source": [
    "# リスト内包表記\n",
    "### リスト内包表記(List Comprehensions)は既存のリストやジェネレータから新しいリストを作るもの\n"
   ]
  },
  {
   "cell_type": "code",
   "execution_count": 1,
   "id": "5d073f9c",
   "metadata": {},
   "outputs": [
    {
     "name": "stdout",
     "output_type": "stream",
     "text": [
      "[1, 4, 9, 16, 25, 36, 49, 64, 81, 100]\n"
     ]
    }
   ],
   "source": [
    "result = [x**2 for x in range(1,11)]\n",
    "print(result)"
   ]
  },
  {
   "cell_type": "code",
   "execution_count": 53,
   "id": "cf07bc73",
   "metadata": {},
   "outputs": [
    {
     "name": "stdout",
     "output_type": "stream",
     "text": [
      "{2: 1, 4: 4, 6: 9, 8: 16, 10: 25, 12: 36, 14: 49, 16: 64, 18: 81, 20: 100}\n"
     ]
    }
   ],
   "source": [
    "d = {x*2:x**2 for x in range(1,11)}\n",
    "print(d)"
   ]
  },
  {
   "cell_type": "markdown",
   "id": "4d3352c1",
   "metadata": {},
   "source": [
    "# 標準入力\n",
    "### input()を用いることで、ユーザからの入力を受けとれる"
   ]
  },
  {
   "cell_type": "code",
   "execution_count": null,
   "id": "dd554638",
   "metadata": {},
   "outputs": [
    {
     "name": "stdout",
     "output_type": "stream",
     "text": [
      "名前を入力してください\n"
     ]
    }
   ],
   "source": [
    "print(\"名前を入力してください\")\n",
    "name = input()\n",
    "print(\"あなたの名前は\"+name+\"です\")"
   ]
  },
  {
   "cell_type": "markdown",
   "id": "c7fb3411",
   "metadata": {},
   "source": [
    "# 関数\n",
    "### 関数とはあるデータを受け取り、定められた独自の処理を実行し、その結果を返す命令のこと \n",
    "### 関数には2種類あり、1つ目は独自関数、2つ目は標準関数\n",
    "### 独自間数は変数を作るのと同じように自由に名前と処理を考え作ることができる\n",
    "### 標準関数は、Pythonが最初から用意している関数\n",
    "\n",
    "### 関数を定義するためには、defというキーワードを使う"
   ]
  },
  {
   "cell_type": "code",
   "execution_count": 2,
   "id": "ee015e95",
   "metadata": {},
   "outputs": [
    {
     "name": "stdout",
     "output_type": "stream",
     "text": [
      "aaaaa!\n"
     ]
    }
   ],
   "source": [
    "def hello():\n",
    "    print(\"aaaaa!\")\n",
    "    \n",
    "hello()    "
   ]
  },
  {
   "cell_type": "markdown",
   "id": "15ea865a",
   "metadata": {},
   "source": [
    "# 返り値(戻り値)\n",
    "### 関数で処理されたデータを呼び出し元に返す。"
   ]
  },
  {
   "cell_type": "code",
   "execution_count": 1,
   "id": "d835332d",
   "metadata": {},
   "outputs": [
    {
     "name": "stdout",
     "output_type": "stream",
     "text": [
      "5\n"
     ]
    }
   ],
   "source": [
    "def adder(a, b):\n",
    "    return a+b\n",
    "\n",
    "value = adder(5,10) \n",
    "\n",
    "data = [1,2,3,4,5]\n",
    "\n",
    "value = len(data)\n",
    "\n",
    "print(value)"
   ]
  },
  {
   "cell_type": "markdown",
   "id": "fa303b30",
   "metadata": {},
   "source": [
    "### 引数にはデフォルト値を設定できる"
   ]
  },
  {
   "cell_type": "code",
   "execution_count": 5,
   "id": "4efa89b6",
   "metadata": {},
   "outputs": [
    {
     "name": "stdout",
     "output_type": "stream",
     "text": [
      "10\n",
      "15\n",
      "2\n",
      "5\n"
     ]
    }
   ],
   "source": [
    "def func(a=2, b=5):\n",
    "    print(a)\n",
    "    print(b)\n",
    "func(10,15) \n",
    "func()"
   ]
  },
  {
   "cell_type": "markdown",
   "id": "e358dd26",
   "metadata": {},
   "source": [
    "# 変数のスコープ\n",
    "###変数はどこで作成したかによってスコープ（有効範囲）が変化する"
   ]
  },
  {
   "cell_type": "code",
   "execution_count": 6,
   "id": "e28c71e8",
   "metadata": {
    "scrolled": true
   },
   "outputs": [
    {
     "name": "stdout",
     "output_type": "stream",
     "text": [
      "10\n"
     ]
    },
    {
     "ename": "NameError",
     "evalue": "name 'x2' is not defined",
     "output_type": "error",
     "traceback": [
      "\u001b[1;31m---------------------------------------------------------------------------\u001b[0m",
      "\u001b[1;31mNameError\u001b[0m                                 Traceback (most recent call last)",
      "\u001b[1;32m~\\AppData\\Local\\Temp/ipykernel_14072/2060480783.py\u001b[0m in \u001b[0;36m<module>\u001b[1;34m\u001b[0m\n\u001b[0;32m      5\u001b[0m \u001b[1;33m\u001b[0m\u001b[0m\n\u001b[0;32m      6\u001b[0m \u001b[0madd\u001b[0m\u001b[1;33m(\u001b[0m\u001b[1;36m5\u001b[0m\u001b[1;33m)\u001b[0m\u001b[1;33m\u001b[0m\u001b[1;33m\u001b[0m\u001b[0m\n\u001b[1;32m----> 7\u001b[1;33m \u001b[0mprint\u001b[0m\u001b[1;33m(\u001b[0m\u001b[0mx2\u001b[0m\u001b[1;33m)\u001b[0m\u001b[1;33m\u001b[0m\u001b[1;33m\u001b[0m\u001b[0m\n\u001b[0m\u001b[0;32m      8\u001b[0m \u001b[1;31m#このとき変数x2は上の関数の内部のみで有効なためエラーが起きる\u001b[0m\u001b[1;33m\u001b[0m\u001b[1;33m\u001b[0m\u001b[0m\n",
      "\u001b[1;31mNameError\u001b[0m: name 'x2' is not defined"
     ]
    }
   ],
   "source": [
    "def add(x1):\n",
    "    x2=5\n",
    "    result=x1+x2\n",
    "    print(result)\n",
    "   \n",
    "add(5)\n",
    "print(x2)\n",
    "#このとき変数x2は上の関数の内部のみで有効なためエラーが起きる"
   ]
  },
  {
   "cell_type": "markdown",
   "id": "db7e02ac",
   "metadata": {},
   "source": [
    "### 関数の外で変数を定義すれば回避できる\n",
    "## グローバル(global)宣言・グローバル変数\n",
    "#### グローバル宣言をすることで関数内で数値を変更できる"
   ]
  },
  {
   "cell_type": "markdown",
   "id": "8be4cb1f",
   "metadata": {},
   "source": [
    "# ライブラリ\n",
    "### ライブラリとは、ある程度まとまった汎用性の高い処理（関数・クラス・その他）を他のプログラムから読み込むことで、使うことが出来るようにしたファイル\n",
    "### pythonでは基本的にモジュールの事\n",
    "\n",
    "### import ファイル名（拡張子のぞく）\n",
    "### ↑で読み込める\n",
    "### 複数読み込む場合は「.」で区切る\n",
    "### from ファイル名(モジュール名) import *でファイル名の指定なしに呼び出しが可能\n"
   ]
  },
  {
   "cell_type": "markdown",
   "id": "be1ab22b",
   "metadata": {},
   "source": [
    "# オブジェクト指向\n",
    "### オブジェクト指向とはプログラミングのスタイル・手法のこと\n",
    "# クラス\n",
    "### クラスとはデータ構造を作る仕組みで、クラスを使うと新しいデータ型を作ることができる\n",
    "### クラスを作るときは単語の頭文字を大文字にして接続する書式で作る\n",
    "# オブジェクト\n",
    "### オブジェクトとはデータ（属性）とメソッド（クラスに定義された関数）を持ったもの"
   ]
  },
  {
   "cell_type": "markdown",
   "id": "8401a36c",
   "metadata": {},
   "source": [
    "# 継承"
   ]
  },
  {
   "cell_type": "markdown",
   "id": "05abe783",
   "metadata": {},
   "source": [
    "### 継承は既存のクラスをもとに新しいクラスを作る仕組み"
   ]
  },
  {
   "cell_type": "code",
   "execution_count": 7,
   "id": "8320c74e",
   "metadata": {},
   "outputs": [
    {
     "name": "stdout",
     "output_type": "stream",
     "text": [
      "SuperHellotani\n",
      "Hello tani\n"
     ]
    }
   ],
   "source": [
    "class User:\n",
    "    def __init__(self, name):\n",
    "        self.name = name\n",
    "\n",
    "    def hello(self):\n",
    "        print(\"Hello \" + self.name)\n",
    "\n",
    "class SuperUser(User): \n",
    "    def __init__(self, name, age):\n",
    "        # super()を使うことで親クラスのメソッドを呼び出すことができる\n",
    "        super().__init__(name) # こクラスから親クラスのコンストラクタを呼び出す\n",
    "        self.age = age\n",
    "\n",
    "    # メソッドの上書き\n",
    "    def hello(self):\n",
    "        print(\"SuperHello\" + self.name)\n",
    "\n",
    "        # またこクラスのメソッドの中で、例えば上書きした\n",
    "        # メソッド内で、super()を使うことで親クラスUserのメソッドを呼び出すこともできる\n",
    "\n",
    "        super().hello()\n",
    "\n",
    "t = SuperUser(\"tani\", 100)\n",
    "t.hello()"
   ]
  },
  {
   "cell_type": "markdown",
   "id": "cb8e11a6",
   "metadata": {},
   "source": [
    "# 多重継承\n",
    "###"
   ]
  },
  {
   "cell_type": "code",
   "execution_count": 8,
   "id": "116ea187",
   "metadata": {},
   "outputs": [
    {
     "ename": "IndentationError",
     "evalue": "expected an indented block (Temp/ipykernel_14072/2075238213.py, line 1)",
     "output_type": "error",
     "traceback": [
      "\u001b[1;36m  File \u001b[1;32m\"C:\\Users\\edwin\\AppData\\Local\\Temp/ipykernel_14072/2075238213.py\"\u001b[1;36m, line \u001b[1;32m1\u001b[0m\n\u001b[1;33m    class SampleClassName(Base1, Base2): #このように書くと2つのクラスから継承することができる(base1,base2)\u001b[0m\n\u001b[1;37m                                                                                 ^\u001b[0m\n\u001b[1;31mIndentationError\u001b[0m\u001b[1;31m:\u001b[0m expected an indented block\n"
     ]
    }
   ],
   "source": [
    "class SampleClassName(Base1, Base2): #このように書くと2つのクラスから継承することができる(base1,base2)"
   ]
  },
  {
   "cell_type": "code",
   "execution_count": null,
   "id": "c4b2808a",
   "metadata": {},
   "outputs": [],
   "source": []
  }
 ],
 "metadata": {
  "kernelspec": {
   "display_name": "Python 3 (ipykernel)",
   "language": "python",
   "name": "python3"
  },
  "language_info": {
   "codemirror_mode": {
    "name": "ipython",
    "version": 3
   },
   "file_extension": ".py",
   "mimetype": "text/x-python",
   "name": "python",
   "nbconvert_exporter": "python",
   "pygments_lexer": "ipython3",
   "version": "3.9.7"
  }
 },
 "nbformat": 4,
 "nbformat_minor": 5
}
